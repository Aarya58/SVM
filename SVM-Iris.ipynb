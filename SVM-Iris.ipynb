{
 "cells": [
  {
   "cell_type": "code",
   "execution_count": 14,
   "metadata": {},
   "outputs": [],
   "source": [
    "from sklearn import svm, datasets\n",
    "import numpy as np\n",
    "from sklearn.model_selection import train_test_split\n",
    "import matplotlib.pyplot as plt"
   ]
  },
  {
   "cell_type": "code",
   "execution_count": 15,
   "metadata": {},
   "outputs": [
    {
     "data": {
      "text/plain": [
       "{'data': array([[5.1, 3.5, 1.4, 0.2],\n",
       "        [4.9, 3. , 1.4, 0.2],\n",
       "        [4.7, 3.2, 1.3, 0.2],\n",
       "        [4.6, 3.1, 1.5, 0.2],\n",
       "        [5. , 3.6, 1.4, 0.2],\n",
       "        [5.4, 3.9, 1.7, 0.4],\n",
       "        [4.6, 3.4, 1.4, 0.3],\n",
       "        [5. , 3.4, 1.5, 0.2],\n",
       "        [4.4, 2.9, 1.4, 0.2],\n",
       "        [4.9, 3.1, 1.5, 0.1],\n",
       "        [5.4, 3.7, 1.5, 0.2],\n",
       "        [4.8, 3.4, 1.6, 0.2],\n",
       "        [4.8, 3. , 1.4, 0.1],\n",
       "        [4.3, 3. , 1.1, 0.1],\n",
       "        [5.8, 4. , 1.2, 0.2],\n",
       "        [5.7, 4.4, 1.5, 0.4],\n",
       "        [5.4, 3.9, 1.3, 0.4],\n",
       "        [5.1, 3.5, 1.4, 0.3],\n",
       "        [5.7, 3.8, 1.7, 0.3],\n",
       "        [5.1, 3.8, 1.5, 0.3],\n",
       "        [5.4, 3.4, 1.7, 0.2],\n",
       "        [5.1, 3.7, 1.5, 0.4],\n",
       "        [4.6, 3.6, 1. , 0.2],\n",
       "        [5.1, 3.3, 1.7, 0.5],\n",
       "        [4.8, 3.4, 1.9, 0.2],\n",
       "        [5. , 3. , 1.6, 0.2],\n",
       "        [5. , 3.4, 1.6, 0.4],\n",
       "        [5.2, 3.5, 1.5, 0.2],\n",
       "        [5.2, 3.4, 1.4, 0.2],\n",
       "        [4.7, 3.2, 1.6, 0.2],\n",
       "        [4.8, 3.1, 1.6, 0.2],\n",
       "        [5.4, 3.4, 1.5, 0.4],\n",
       "        [5.2, 4.1, 1.5, 0.1],\n",
       "        [5.5, 4.2, 1.4, 0.2],\n",
       "        [4.9, 3.1, 1.5, 0.2],\n",
       "        [5. , 3.2, 1.2, 0.2],\n",
       "        [5.5, 3.5, 1.3, 0.2],\n",
       "        [4.9, 3.6, 1.4, 0.1],\n",
       "        [4.4, 3. , 1.3, 0.2],\n",
       "        [5.1, 3.4, 1.5, 0.2],\n",
       "        [5. , 3.5, 1.3, 0.3],\n",
       "        [4.5, 2.3, 1.3, 0.3],\n",
       "        [4.4, 3.2, 1.3, 0.2],\n",
       "        [5. , 3.5, 1.6, 0.6],\n",
       "        [5.1, 3.8, 1.9, 0.4],\n",
       "        [4.8, 3. , 1.4, 0.3],\n",
       "        [5.1, 3.8, 1.6, 0.2],\n",
       "        [4.6, 3.2, 1.4, 0.2],\n",
       "        [5.3, 3.7, 1.5, 0.2],\n",
       "        [5. , 3.3, 1.4, 0.2],\n",
       "        [7. , 3.2, 4.7, 1.4],\n",
       "        [6.4, 3.2, 4.5, 1.5],\n",
       "        [6.9, 3.1, 4.9, 1.5],\n",
       "        [5.5, 2.3, 4. , 1.3],\n",
       "        [6.5, 2.8, 4.6, 1.5],\n",
       "        [5.7, 2.8, 4.5, 1.3],\n",
       "        [6.3, 3.3, 4.7, 1.6],\n",
       "        [4.9, 2.4, 3.3, 1. ],\n",
       "        [6.6, 2.9, 4.6, 1.3],\n",
       "        [5.2, 2.7, 3.9, 1.4],\n",
       "        [5. , 2. , 3.5, 1. ],\n",
       "        [5.9, 3. , 4.2, 1.5],\n",
       "        [6. , 2.2, 4. , 1. ],\n",
       "        [6.1, 2.9, 4.7, 1.4],\n",
       "        [5.6, 2.9, 3.6, 1.3],\n",
       "        [6.7, 3.1, 4.4, 1.4],\n",
       "        [5.6, 3. , 4.5, 1.5],\n",
       "        [5.8, 2.7, 4.1, 1. ],\n",
       "        [6.2, 2.2, 4.5, 1.5],\n",
       "        [5.6, 2.5, 3.9, 1.1],\n",
       "        [5.9, 3.2, 4.8, 1.8],\n",
       "        [6.1, 2.8, 4. , 1.3],\n",
       "        [6.3, 2.5, 4.9, 1.5],\n",
       "        [6.1, 2.8, 4.7, 1.2],\n",
       "        [6.4, 2.9, 4.3, 1.3],\n",
       "        [6.6, 3. , 4.4, 1.4],\n",
       "        [6.8, 2.8, 4.8, 1.4],\n",
       "        [6.7, 3. , 5. , 1.7],\n",
       "        [6. , 2.9, 4.5, 1.5],\n",
       "        [5.7, 2.6, 3.5, 1. ],\n",
       "        [5.5, 2.4, 3.8, 1.1],\n",
       "        [5.5, 2.4, 3.7, 1. ],\n",
       "        [5.8, 2.7, 3.9, 1.2],\n",
       "        [6. , 2.7, 5.1, 1.6],\n",
       "        [5.4, 3. , 4.5, 1.5],\n",
       "        [6. , 3.4, 4.5, 1.6],\n",
       "        [6.7, 3.1, 4.7, 1.5],\n",
       "        [6.3, 2.3, 4.4, 1.3],\n",
       "        [5.6, 3. , 4.1, 1.3],\n",
       "        [5.5, 2.5, 4. , 1.3],\n",
       "        [5.5, 2.6, 4.4, 1.2],\n",
       "        [6.1, 3. , 4.6, 1.4],\n",
       "        [5.8, 2.6, 4. , 1.2],\n",
       "        [5. , 2.3, 3.3, 1. ],\n",
       "        [5.6, 2.7, 4.2, 1.3],\n",
       "        [5.7, 3. , 4.2, 1.2],\n",
       "        [5.7, 2.9, 4.2, 1.3],\n",
       "        [6.2, 2.9, 4.3, 1.3],\n",
       "        [5.1, 2.5, 3. , 1.1],\n",
       "        [5.7, 2.8, 4.1, 1.3],\n",
       "        [6.3, 3.3, 6. , 2.5],\n",
       "        [5.8, 2.7, 5.1, 1.9],\n",
       "        [7.1, 3. , 5.9, 2.1],\n",
       "        [6.3, 2.9, 5.6, 1.8],\n",
       "        [6.5, 3. , 5.8, 2.2],\n",
       "        [7.6, 3. , 6.6, 2.1],\n",
       "        [4.9, 2.5, 4.5, 1.7],\n",
       "        [7.3, 2.9, 6.3, 1.8],\n",
       "        [6.7, 2.5, 5.8, 1.8],\n",
       "        [7.2, 3.6, 6.1, 2.5],\n",
       "        [6.5, 3.2, 5.1, 2. ],\n",
       "        [6.4, 2.7, 5.3, 1.9],\n",
       "        [6.8, 3. , 5.5, 2.1],\n",
       "        [5.7, 2.5, 5. , 2. ],\n",
       "        [5.8, 2.8, 5.1, 2.4],\n",
       "        [6.4, 3.2, 5.3, 2.3],\n",
       "        [6.5, 3. , 5.5, 1.8],\n",
       "        [7.7, 3.8, 6.7, 2.2],\n",
       "        [7.7, 2.6, 6.9, 2.3],\n",
       "        [6. , 2.2, 5. , 1.5],\n",
       "        [6.9, 3.2, 5.7, 2.3],\n",
       "        [5.6, 2.8, 4.9, 2. ],\n",
       "        [7.7, 2.8, 6.7, 2. ],\n",
       "        [6.3, 2.7, 4.9, 1.8],\n",
       "        [6.7, 3.3, 5.7, 2.1],\n",
       "        [7.2, 3.2, 6. , 1.8],\n",
       "        [6.2, 2.8, 4.8, 1.8],\n",
       "        [6.1, 3. , 4.9, 1.8],\n",
       "        [6.4, 2.8, 5.6, 2.1],\n",
       "        [7.2, 3. , 5.8, 1.6],\n",
       "        [7.4, 2.8, 6.1, 1.9],\n",
       "        [7.9, 3.8, 6.4, 2. ],\n",
       "        [6.4, 2.8, 5.6, 2.2],\n",
       "        [6.3, 2.8, 5.1, 1.5],\n",
       "        [6.1, 2.6, 5.6, 1.4],\n",
       "        [7.7, 3. , 6.1, 2.3],\n",
       "        [6.3, 3.4, 5.6, 2.4],\n",
       "        [6.4, 3.1, 5.5, 1.8],\n",
       "        [6. , 3. , 4.8, 1.8],\n",
       "        [6.9, 3.1, 5.4, 2.1],\n",
       "        [6.7, 3.1, 5.6, 2.4],\n",
       "        [6.9, 3.1, 5.1, 2.3],\n",
       "        [5.8, 2.7, 5.1, 1.9],\n",
       "        [6.8, 3.2, 5.9, 2.3],\n",
       "        [6.7, 3.3, 5.7, 2.5],\n",
       "        [6.7, 3. , 5.2, 2.3],\n",
       "        [6.3, 2.5, 5. , 1.9],\n",
       "        [6.5, 3. , 5.2, 2. ],\n",
       "        [6.2, 3.4, 5.4, 2.3],\n",
       "        [5.9, 3. , 5.1, 1.8]]),\n",
       " 'target': array([0, 0, 0, 0, 0, 0, 0, 0, 0, 0, 0, 0, 0, 0, 0, 0, 0, 0, 0, 0, 0, 0,\n",
       "        0, 0, 0, 0, 0, 0, 0, 0, 0, 0, 0, 0, 0, 0, 0, 0, 0, 0, 0, 0, 0, 0,\n",
       "        0, 0, 0, 0, 0, 0, 1, 1, 1, 1, 1, 1, 1, 1, 1, 1, 1, 1, 1, 1, 1, 1,\n",
       "        1, 1, 1, 1, 1, 1, 1, 1, 1, 1, 1, 1, 1, 1, 1, 1, 1, 1, 1, 1, 1, 1,\n",
       "        1, 1, 1, 1, 1, 1, 1, 1, 1, 1, 1, 1, 2, 2, 2, 2, 2, 2, 2, 2, 2, 2,\n",
       "        2, 2, 2, 2, 2, 2, 2, 2, 2, 2, 2, 2, 2, 2, 2, 2, 2, 2, 2, 2, 2, 2,\n",
       "        2, 2, 2, 2, 2, 2, 2, 2, 2, 2, 2, 2, 2, 2, 2, 2, 2, 2]),\n",
       " 'frame': None,\n",
       " 'target_names': array(['setosa', 'versicolor', 'virginica'], dtype='<U10'),\n",
       " 'DESCR': '.. _iris_dataset:\\n\\nIris plants dataset\\n--------------------\\n\\n**Data Set Characteristics:**\\n\\n    :Number of Instances: 150 (50 in each of three classes)\\n    :Number of Attributes: 4 numeric, predictive attributes and the class\\n    :Attribute Information:\\n        - sepal length in cm\\n        - sepal width in cm\\n        - petal length in cm\\n        - petal width in cm\\n        - class:\\n                - Iris-Setosa\\n                - Iris-Versicolour\\n                - Iris-Virginica\\n                \\n    :Summary Statistics:\\n\\n    ============== ==== ==== ======= ===== ====================\\n                    Min  Max   Mean    SD   Class Correlation\\n    ============== ==== ==== ======= ===== ====================\\n    sepal length:   4.3  7.9   5.84   0.83    0.7826\\n    sepal width:    2.0  4.4   3.05   0.43   -0.4194\\n    petal length:   1.0  6.9   3.76   1.76    0.9490  (high!)\\n    petal width:    0.1  2.5   1.20   0.76    0.9565  (high!)\\n    ============== ==== ==== ======= ===== ====================\\n\\n    :Missing Attribute Values: None\\n    :Class Distribution: 33.3% for each of 3 classes.\\n    :Creator: R.A. Fisher\\n    :Donor: Michael Marshall (MARSHALL%PLU@io.arc.nasa.gov)\\n    :Date: July, 1988\\n\\nThe famous Iris database, first used by Sir R.A. Fisher. The dataset is taken\\nfrom Fisher\\'s paper. Note that it\\'s the same as in R, but not as in the UCI\\nMachine Learning Repository, which has two wrong data points.\\n\\nThis is perhaps the best known database to be found in the\\npattern recognition literature.  Fisher\\'s paper is a classic in the field and\\nis referenced frequently to this day.  (See Duda & Hart, for example.)  The\\ndata set contains 3 classes of 50 instances each, where each class refers to a\\ntype of iris plant.  One class is linearly separable from the other 2; the\\nlatter are NOT linearly separable from each other.\\n\\n.. topic:: References\\n\\n   - Fisher, R.A. \"The use of multiple measurements in taxonomic problems\"\\n     Annual Eugenics, 7, Part II, 179-188 (1936); also in \"Contributions to\\n     Mathematical Statistics\" (John Wiley, NY, 1950).\\n   - Duda, R.O., & Hart, P.E. (1973) Pattern Classification and Scene Analysis.\\n     (Q327.D83) John Wiley & Sons.  ISBN 0-471-22361-1.  See page 218.\\n   - Dasarathy, B.V. (1980) \"Nosing Around the Neighborhood: A New System\\n     Structure and Classification Rule for Recognition in Partially Exposed\\n     Environments\".  IEEE Transactions on Pattern Analysis and Machine\\n     Intelligence, Vol. PAMI-2, No. 1, 67-71.\\n   - Gates, G.W. (1972) \"The Reduced Nearest Neighbor Rule\".  IEEE Transactions\\n     on Information Theory, May 1972, 431-433.\\n   - See also: 1988 MLC Proceedings, 54-64.  Cheeseman et al\"s AUTOCLASS II\\n     conceptual clustering system finds 3 classes in the data.\\n   - Many, many more ...',\n",
       " 'feature_names': ['sepal length (cm)',\n",
       "  'sepal width (cm)',\n",
       "  'petal length (cm)',\n",
       "  'petal width (cm)'],\n",
       " 'filename': 'C:\\\\Users\\\\aarya\\\\anaconda3\\\\lib\\\\site-packages\\\\sklearn\\\\datasets\\\\data\\\\iris.csv'}"
      ]
     },
     "execution_count": 15,
     "metadata": {},
     "output_type": "execute_result"
    }
   ],
   "source": [
    "iris = datasets.load_iris()\n",
    "x = iris.data[:, 2:4]\n",
    "y = iris.target\n",
    "iris"
   ]
  },
  {
   "cell_type": "code",
   "execution_count": 16,
   "metadata": {},
   "outputs": [
    {
     "data": {
      "text/plain": [
       "<seaborn.axisgrid.FacetGrid at 0x17cdfe50f40>"
      ]
     },
     "execution_count": 16,
     "metadata": {},
     "output_type": "execute_result"
    },
    {
     "data": {
      "image/png": "[encoded data removed]",
      "text/plain": [
       "<Figure size 511.125x432 with 1 Axes>"
      ]
     },
     "metadata": {},
     "output_type": "display_data"
    }
   ],
   "source": [
    "import seaborn as sns\n",
    "import matplotlib.pyplot as plt\n",
    "iris = sns.load_dataset('iris')\n",
    "sns.set_style(\"whitegrid\")\n",
    "sns.FacetGrid(iris, hue =\"species\",height = 6).map(plt.scatter,'petal_length','petal_width').add_legend()"
   ]
  },
  {
   "cell_type": "code",
   "execution_count": 17,
   "metadata": {},
   "outputs": [],
   "source": [
    "x_train,x_test, y_train, y_test = train_test_split(x, y)"
   ]
  },
  {
   "cell_type": "code",
   "execution_count": 18,
   "metadata": {},
   "outputs": [
    {
     "data": {
      "text/plain": [
       "SVC(kernel='linear')"
      ]
     },
     "execution_count": 18,
     "metadata": {},
     "output_type": "execute_result"
    }
   ],
   "source": [
    "clf = svm.SVC(kernel = 'linear')\n",
    "clf.fit(x_train, y_train)"
   ]
  },
  {
   "cell_type": "code",
   "execution_count": 19,
   "metadata": {},
   "outputs": [
    {
     "data": {
      "text/plain": [
       "0.9473684210526315"
      ]
     },
     "execution_count": 19,
     "metadata": {},
     "output_type": "execute_result"
    }
   ],
   "source": [
    "clf.score(x_test, y_test)"
   ]
  },
  {
   "cell_type": "code",
   "execution_count": 20,
   "metadata": {},
   "outputs": [],
   "source": [
    "def makegrid(x1, x2, h = 0.02):\n",
    "    x1_min, x1_max = x1.min() - 1, x1.max() + 1\n",
    "    x2_min, x2_max = x2.min() - 1, x2.max() + 1\n",
    "    a = np.arange(x1_min,x1_max,h)\n",
    "    b = np.arange(x2_min, x2_max, h)\n",
    "    xx, yy = np.meshgrid(a, b)\n",
    "    return xx, yy"
   ]
  },
  {
   "cell_type": "code",
   "execution_count": 21,
   "metadata": {},
   "outputs": [
    {
     "data": {
      "text/plain": [
       "array([1.4, 1.4, 1.3, 1.5, 1.4, 1.7, 1.4, 1.5, 1.4, 1.5, 1.5, 1.6, 1.4,\n",
       "       1.1, 1.2, 1.5, 1.3, 1.4, 1.7, 1.5, 1.7, 1.5, 1. , 1.7, 1.9, 1.6,\n",
       "       1.6, 1.5, 1.4, 1.6, 1.6, 1.5, 1.5, 1.4, 1.5, 1.2, 1.3, 1.4, 1.3,\n",
       "       1.5, 1.3, 1.3, 1.3, 1.6, 1.9, 1.4, 1.6, 1.4, 1.5, 1.4, 4.7, 4.5,\n",
       "       4.9, 4. , 4.6, 4.5, 4.7, 3.3, 4.6, 3.9, 3.5, 4.2, 4. , 4.7, 3.6,\n",
       "       4.4, 4.5, 4.1, 4.5, 3.9, 4.8, 4. , 4.9, 4.7, 4.3, 4.4, 4.8, 5. ,\n",
       "       4.5, 3.5, 3.8, 3.7, 3.9, 5.1, 4.5, 4.5, 4.7, 4.4, 4.1, 4. , 4.4,\n",
       "       4.6, 4. , 3.3, 4.2, 4.2, 4.2, 4.3, 3. , 4.1, 6. , 5.1, 5.9, 5.6,\n",
       "       5.8, 6.6, 4.5, 6.3, 5.8, 6.1, 5.1, 5.3, 5.5, 5. , 5.1, 5.3, 5.5,\n",
       "       6.7, 6.9, 5. , 5.7, 4.9, 6.7, 4.9, 5.7, 6. , 4.8, 4.9, 5.6, 5.8,\n",
       "       6.1, 6.4, 5.6, 5.1, 5.6, 6.1, 5.6, 5.5, 4.8, 5.4, 5.6, 5.1, 5.1,\n",
       "       5.9, 5.7, 5.2, 5. , 5.2, 5.4, 5.1])"
      ]
     },
     "execution_count": 21,
     "metadata": {},
     "output_type": "execute_result"
    }
   ],
   "source": [
    "x[:,0]"
   ]
  },
  {
   "cell_type": "code",
   "execution_count": 22,
   "metadata": {},
   "outputs": [
    {
     "data": {
      "text/plain": [
       "array([1.   , 1.001, 1.002, 1.003, 1.004, 1.005, 1.006, 1.007, 1.008,\n",
       "       1.009, 1.01 , 1.011, 1.012, 1.013, 1.014, 1.015, 1.016, 1.017,\n",
       "       1.018, 1.019, 1.02 , 1.021, 1.022, 1.023, 1.024, 1.025, 1.026,\n",
       "       1.027, 1.028, 1.029, 1.03 , 1.031, 1.032, 1.033, 1.034, 1.035,\n",
       "       1.036, 1.037, 1.038, 1.039, 1.04 , 1.041, 1.042, 1.043, 1.044,\n",
       "       1.045, 1.046, 1.047, 1.048, 1.049, 1.05 , 1.051, 1.052, 1.053,\n",
       "       1.054, 1.055, 1.056, 1.057, 1.058, 1.059, 1.06 , 1.061, 1.062,\n",
       "       1.063, 1.064, 1.065, 1.066, 1.067, 1.068, 1.069, 1.07 , 1.071,\n",
       "       1.072, 1.073, 1.074, 1.075, 1.076, 1.077, 1.078, 1.079, 1.08 ,\n",
       "       1.081, 1.082, 1.083, 1.084, 1.085, 1.086, 1.087, 1.088, 1.089,\n",
       "       1.09 , 1.091, 1.092, 1.093, 1.094, 1.095, 1.096, 1.097, 1.098,\n",
       "       1.099, 1.1  , 1.101, 1.102, 1.103, 1.104, 1.105, 1.106, 1.107,\n",
       "       1.108, 1.109, 1.11 , 1.111, 1.112, 1.113, 1.114, 1.115, 1.116,\n",
       "       1.117, 1.118, 1.119, 1.12 , 1.121, 1.122, 1.123, 1.124, 1.125,\n",
       "       1.126, 1.127, 1.128, 1.129, 1.13 , 1.131, 1.132, 1.133, 1.134,\n",
       "       1.135, 1.136, 1.137, 1.138, 1.139, 1.14 , 1.141, 1.142, 1.143,\n",
       "       1.144, 1.145, 1.146, 1.147, 1.148, 1.149, 1.15 , 1.151, 1.152,\n",
       "       1.153, 1.154, 1.155, 1.156, 1.157, 1.158, 1.159, 1.16 , 1.161,\n",
       "       1.162, 1.163, 1.164, 1.165, 1.166, 1.167, 1.168, 1.169, 1.17 ,\n",
       "       1.171, 1.172, 1.173, 1.174, 1.175, 1.176, 1.177, 1.178, 1.179,\n",
       "       1.18 , 1.181, 1.182, 1.183, 1.184, 1.185, 1.186, 1.187, 1.188,\n",
       "       1.189, 1.19 , 1.191, 1.192, 1.193, 1.194, 1.195, 1.196, 1.197,\n",
       "       1.198, 1.199, 1.2  , 1.201, 1.202, 1.203, 1.204, 1.205, 1.206,\n",
       "       1.207, 1.208, 1.209, 1.21 , 1.211, 1.212, 1.213, 1.214, 1.215,\n",
       "       1.216, 1.217, 1.218, 1.219, 1.22 , 1.221, 1.222, 1.223, 1.224,\n",
       "       1.225, 1.226, 1.227, 1.228, 1.229, 1.23 , 1.231, 1.232, 1.233,\n",
       "       1.234, 1.235, 1.236, 1.237, 1.238, 1.239, 1.24 , 1.241, 1.242,\n",
       "       1.243, 1.244, 1.245, 1.246, 1.247, 1.248, 1.249, 1.25 , 1.251,\n",
       "       1.252, 1.253, 1.254, 1.255, 1.256, 1.257, 1.258, 1.259, 1.26 ,\n",
       "       1.261, 1.262, 1.263, 1.264, 1.265, 1.266, 1.267, 1.268, 1.269,\n",
       "       1.27 , 1.271, 1.272, 1.273, 1.274, 1.275, 1.276, 1.277, 1.278,\n",
       "       1.279, 1.28 , 1.281, 1.282, 1.283, 1.284, 1.285, 1.286, 1.287,\n",
       "       1.288, 1.289, 1.29 , 1.291, 1.292, 1.293, 1.294, 1.295, 1.296,\n",
       "       1.297, 1.298, 1.299, 1.3  , 1.301, 1.302, 1.303, 1.304, 1.305,\n",
       "       1.306, 1.307, 1.308, 1.309, 1.31 , 1.311, 1.312, 1.313, 1.314,\n",
       "       1.315, 1.316, 1.317, 1.318, 1.319, 1.32 , 1.321, 1.322, 1.323,\n",
       "       1.324, 1.325, 1.326, 1.327, 1.328, 1.329, 1.33 , 1.331, 1.332,\n",
       "       1.333, 1.334, 1.335, 1.336, 1.337, 1.338, 1.339, 1.34 , 1.341,\n",
       "       1.342, 1.343, 1.344, 1.345, 1.346, 1.347, 1.348, 1.349, 1.35 ,\n",
       "       1.351, 1.352, 1.353, 1.354, 1.355, 1.356, 1.357, 1.358, 1.359,\n",
       "       1.36 , 1.361, 1.362, 1.363, 1.364, 1.365, 1.366, 1.367, 1.368,\n",
       "       1.369, 1.37 , 1.371, 1.372, 1.373, 1.374, 1.375, 1.376, 1.377,\n",
       "       1.378, 1.379, 1.38 , 1.381, 1.382, 1.383, 1.384, 1.385, 1.386,\n",
       "       1.387, 1.388, 1.389, 1.39 , 1.391, 1.392, 1.393, 1.394, 1.395,\n",
       "       1.396, 1.397, 1.398, 1.399, 1.4  , 1.401, 1.402, 1.403, 1.404,\n",
       "       1.405, 1.406, 1.407, 1.408, 1.409, 1.41 , 1.411, 1.412, 1.413,\n",
       "       1.414, 1.415, 1.416, 1.417, 1.418, 1.419, 1.42 , 1.421, 1.422,\n",
       "       1.423, 1.424, 1.425, 1.426, 1.427, 1.428, 1.429, 1.43 , 1.431,\n",
       "       1.432, 1.433, 1.434, 1.435, 1.436, 1.437, 1.438, 1.439, 1.44 ,\n",
       "       1.441, 1.442, 1.443, 1.444, 1.445, 1.446, 1.447, 1.448, 1.449,\n",
       "       1.45 , 1.451, 1.452, 1.453, 1.454, 1.455, 1.456, 1.457, 1.458,\n",
       "       1.459, 1.46 , 1.461, 1.462, 1.463, 1.464, 1.465, 1.466, 1.467,\n",
       "       1.468, 1.469, 1.47 , 1.471, 1.472, 1.473, 1.474, 1.475, 1.476,\n",
       "       1.477, 1.478, 1.479, 1.48 , 1.481, 1.482, 1.483, 1.484, 1.485,\n",
       "       1.486, 1.487, 1.488, 1.489, 1.49 , 1.491, 1.492, 1.493, 1.494,\n",
       "       1.495, 1.496, 1.497, 1.498, 1.499, 1.5  , 1.501, 1.502, 1.503,\n",
       "       1.504, 1.505, 1.506, 1.507, 1.508, 1.509, 1.51 , 1.511, 1.512,\n",
       "       1.513, 1.514, 1.515, 1.516, 1.517, 1.518, 1.519, 1.52 , 1.521,\n",
       "       1.522, 1.523, 1.524, 1.525, 1.526, 1.527, 1.528, 1.529, 1.53 ,\n",
       "       1.531, 1.532, 1.533, 1.534, 1.535, 1.536, 1.537, 1.538, 1.539,\n",
       "       1.54 , 1.541, 1.542, 1.543, 1.544, 1.545, 1.546, 1.547, 1.548,\n",
       "       1.549, 1.55 , 1.551, 1.552, 1.553, 1.554, 1.555, 1.556, 1.557,\n",
       "       1.558, 1.559, 1.56 , 1.561, 1.562, 1.563, 1.564, 1.565, 1.566,\n",
       "       1.567, 1.568, 1.569, 1.57 , 1.571, 1.572, 1.573, 1.574, 1.575,\n",
       "       1.576, 1.577, 1.578, 1.579, 1.58 , 1.581, 1.582, 1.583, 1.584,\n",
       "       1.585, 1.586, 1.587, 1.588, 1.589, 1.59 , 1.591, 1.592, 1.593,\n",
       "       1.594, 1.595, 1.596, 1.597, 1.598, 1.599, 1.6  , 1.601, 1.602,\n",
       "       1.603, 1.604, 1.605, 1.606, 1.607, 1.608, 1.609, 1.61 , 1.611,\n",
       "       1.612, 1.613, 1.614, 1.615, 1.616, 1.617, 1.618, 1.619, 1.62 ,\n",
       "       1.621, 1.622, 1.623, 1.624, 1.625, 1.626, 1.627, 1.628, 1.629,\n",
       "       1.63 , 1.631, 1.632, 1.633, 1.634, 1.635, 1.636, 1.637, 1.638,\n",
       "       1.639, 1.64 , 1.641, 1.642, 1.643, 1.644, 1.645, 1.646, 1.647,\n",
       "       1.648, 1.649, 1.65 , 1.651, 1.652, 1.653, 1.654, 1.655, 1.656,\n",
       "       1.657, 1.658, 1.659, 1.66 , 1.661, 1.662, 1.663, 1.664, 1.665,\n",
       "       1.666, 1.667, 1.668, 1.669, 1.67 , 1.671, 1.672, 1.673, 1.674,\n",
       "       1.675, 1.676, 1.677, 1.678, 1.679, 1.68 , 1.681, 1.682, 1.683,\n",
       "       1.684, 1.685, 1.686, 1.687, 1.688, 1.689, 1.69 , 1.691, 1.692,\n",
       "       1.693, 1.694, 1.695, 1.696, 1.697, 1.698, 1.699, 1.7  , 1.701,\n",
       "       1.702, 1.703, 1.704, 1.705, 1.706, 1.707, 1.708, 1.709, 1.71 ,\n",
       "       1.711, 1.712, 1.713, 1.714, 1.715, 1.716, 1.717, 1.718, 1.719,\n",
       "       1.72 , 1.721, 1.722, 1.723, 1.724, 1.725, 1.726, 1.727, 1.728,\n",
       "       1.729, 1.73 , 1.731, 1.732, 1.733, 1.734, 1.735, 1.736, 1.737,\n",
       "       1.738, 1.739, 1.74 , 1.741, 1.742, 1.743, 1.744, 1.745, 1.746,\n",
       "       1.747, 1.748, 1.749, 1.75 , 1.751, 1.752, 1.753, 1.754, 1.755,\n",
       "       1.756, 1.757, 1.758, 1.759, 1.76 , 1.761, 1.762, 1.763, 1.764,\n",
       "       1.765, 1.766, 1.767, 1.768, 1.769, 1.77 , 1.771, 1.772, 1.773,\n",
       "       1.774, 1.775, 1.776, 1.777, 1.778, 1.779, 1.78 , 1.781, 1.782,\n",
       "       1.783, 1.784, 1.785, 1.786, 1.787, 1.788, 1.789, 1.79 , 1.791,\n",
       "       1.792, 1.793, 1.794, 1.795, 1.796, 1.797, 1.798, 1.799, 1.8  ,\n",
       "       1.801, 1.802, 1.803, 1.804, 1.805, 1.806, 1.807, 1.808, 1.809,\n",
       "       1.81 , 1.811, 1.812, 1.813, 1.814, 1.815, 1.816, 1.817, 1.818,\n",
       "       1.819, 1.82 , 1.821, 1.822, 1.823, 1.824, 1.825, 1.826, 1.827,\n",
       "       1.828, 1.829, 1.83 , 1.831, 1.832, 1.833, 1.834, 1.835, 1.836,\n",
       "       1.837, 1.838, 1.839, 1.84 , 1.841, 1.842, 1.843, 1.844, 1.845,\n",
       "       1.846, 1.847, 1.848, 1.849, 1.85 , 1.851, 1.852, 1.853, 1.854,\n",
       "       1.855, 1.856, 1.857, 1.858, 1.859, 1.86 , 1.861, 1.862, 1.863,\n",
       "       1.864, 1.865, 1.866, 1.867, 1.868, 1.869, 1.87 , 1.871, 1.872,\n",
       "       1.873, 1.874, 1.875, 1.876, 1.877, 1.878, 1.879, 1.88 , 1.881,\n",
       "       1.882, 1.883, 1.884, 1.885, 1.886, 1.887, 1.888, 1.889, 1.89 ,\n",
       "       1.891, 1.892, 1.893, 1.894, 1.895, 1.896, 1.897, 1.898, 1.899,\n",
       "       1.9  , 1.901, 1.902, 1.903, 1.904, 1.905, 1.906, 1.907, 1.908,\n",
       "       1.909, 1.91 , 1.911, 1.912, 1.913, 1.914, 1.915, 1.916, 1.917,\n",
       "       1.918, 1.919, 1.92 , 1.921, 1.922, 1.923, 1.924, 1.925, 1.926,\n",
       "       1.927, 1.928, 1.929, 1.93 , 1.931, 1.932, 1.933, 1.934, 1.935,\n",
       "       1.936, 1.937, 1.938, 1.939, 1.94 , 1.941, 1.942, 1.943, 1.944,\n",
       "       1.945, 1.946, 1.947, 1.948, 1.949, 1.95 , 1.951, 1.952, 1.953,\n",
       "       1.954, 1.955, 1.956, 1.957, 1.958, 1.959, 1.96 , 1.961, 1.962,\n",
       "       1.963, 1.964, 1.965, 1.966, 1.967, 1.968, 1.969, 1.97 , 1.971,\n",
       "       1.972, 1.973, 1.974, 1.975, 1.976, 1.977, 1.978, 1.979, 1.98 ,\n",
       "       1.981, 1.982, 1.983, 1.984, 1.985, 1.986, 1.987, 1.988, 1.989,\n",
       "       1.99 , 1.991, 1.992, 1.993, 1.994, 1.995, 1.996, 1.997, 1.998,\n",
       "       1.999])"
      ]
     },
     "execution_count": 22,
     "metadata": {},
     "output_type": "execute_result"
    }
   ],
   "source": [
    "np.arange(1,2,0.001)"
   ]
  },
  {
   "cell_type": "code",
   "execution_count": 23,
   "metadata": {},
   "outputs": [
    {
     "data": {
      "text/plain": [
       "array([0.2, 0.2, 0.2, 0.2, 0.2, 0.4, 0.3, 0.2, 0.2, 0.1, 0.2, 0.2, 0.1,\n",
       "       0.1, 0.2, 0.4, 0.4, 0.3, 0.3, 0.3, 0.2, 0.4, 0.2, 0.5, 0.2, 0.2,\n",
       "       0.4, 0.2, 0.2, 0.2, 0.2, 0.4, 0.1, 0.2, 0.2, 0.2, 0.2, 0.1, 0.2,\n",
       "       0.2, 0.3, 0.3, 0.2, 0.6, 0.4, 0.3, 0.2, 0.2, 0.2, 0.2, 1.4, 1.5,\n",
       "       1.5, 1.3, 1.5, 1.3, 1.6, 1. , 1.3, 1.4, 1. , 1.5, 1. , 1.4, 1.3,\n",
       "       1.4, 1.5, 1. , 1.5, 1.1, 1.8, 1.3, 1.5, 1.2, 1.3, 1.4, 1.4, 1.7,\n",
       "       1.5, 1. , 1.1, 1. , 1.2, 1.6, 1.5, 1.6, 1.5, 1.3, 1.3, 1.3, 1.2,\n",
       "       1.4, 1.2, 1. , 1.3, 1.2, 1.3, 1.3, 1.1, 1.3, 2.5, 1.9, 2.1, 1.8,\n",
       "       2.2, 2.1, 1.7, 1.8, 1.8, 2.5, 2. , 1.9, 2.1, 2. , 2.4, 2.3, 1.8,\n",
       "       2.2, 2.3, 1.5, 2.3, 2. , 2. , 1.8, 2.1, 1.8, 1.8, 1.8, 2.1, 1.6,\n",
       "       1.9, 2. , 2.2, 1.5, 1.4, 2.3, 2.4, 1.8, 1.8, 2.1, 2.4, 2.3, 1.9,\n",
       "       2.3, 2.5, 2.3, 1.9, 2. , 2.3, 1.8])"
      ]
     },
     "execution_count": 23,
     "metadata": {},
     "output_type": "execute_result"
    }
   ],
   "source": [
    "x[:, 1]"
   ]
  },
  {
   "cell_type": "code",
   "execution_count": 24,
   "metadata": {},
   "outputs": [
    {
     "data": {
      "image/png": "[encoded data removed]",
      "text/plain": [
       "<Figure size 432x288 with 1 Axes>"
      ]
     },
     "metadata": {},
     "output_type": "display_data"
    }
   ],
   "source": [
    "xx, yy = makegrid(x[:, 0], x[:, 1])\n",
    "predictions = clf.predict(np.c_[xx.ravel(), yy.ravel()])\n",
    "plt.scatter(xx.ravel(), yy.ravel(), c = predictions)\n",
    "plt.show()"
   ]
  }
 ],
 "metadata": {
  "kernelspec": {
   "display_name": "Python 3",
   "language": "python",
   "name": "python3"
  },
  "language_info": {
   "codemirror_mode": {
    "name": "ipython",
    "version": 3
   },
   "file_extension": ".py",
   "mimetype": "text/x-python",
   "name": "python",
   "nbconvert_exporter": "python",
   "pygments_lexer": "ipython3",
   "version": "3.8.5"
  }
 },
 "nbformat": 4,
 "nbformat_minor": 2
}
